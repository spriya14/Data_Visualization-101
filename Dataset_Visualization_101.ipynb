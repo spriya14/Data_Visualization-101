{
  "nbformat": 4,
  "nbformat_minor": 0,
  "metadata": {
    "colab": {
      "name": "Dataset_Visualization 101.ipynb",
      "version": "0.3.2",
      "provenance": [],
      "collapsed_sections": []
    },
    "kernelspec": {
      "name": "python3",
      "display_name": "Python 3"
    }
  },
  "cells": [
    {
      "cell_type": "code",
      "metadata": {
        "id": "egRp0EEgX3XD",
        "colab_type": "code",
        "colab": {}
      },
      "source": [
        "#Importing all required libraries\n",
        "\n",
        "import pandas as pd\n",
        "import numpy as np\n",
        "from sklearn.preprocessing import LabelEncoder\n",
        "from sklearn.preprocessing import StandardScaler\n",
        "import sklearn as sklearn\n",
        "\n",
        "import matplotlib.pyplot as mlt\n",
        "import io\n",
        "\n",
        "\n",
        "\n",
        "\n"
      ],
      "execution_count": 0,
      "outputs": []
    },
    {
      "cell_type": "code",
      "metadata": {
        "id": "yu3e1MWctWNr",
        "colab_type": "code",
        "colab": {}
      },
      "source": [
        "from sklearn.model_selection import train_test_split"
      ],
      "execution_count": 0,
      "outputs": []
    },
    {
      "cell_type": "code",
      "metadata": {
        "id": "_fZv2zXceWPd",
        "colab_type": "code",
        "colab": {
          "base_uri": "https://localhost:8080/",
          "height": 72
        },
        "outputId": "696511e4-560f-42e2-ca4b-8dbc84992511"
      },
      "source": [
        "import io\n",
        "\n",
        "\n",
        "dataframe_all = pd.read_csv(\"https://d396qusza40orc.cloudfront.net/predmachlearn/pml-training.csv\")"
      ],
      "execution_count": 121,
      "outputs": [
        {
          "output_type": "stream",
          "text": [
            "/usr/local/lib/python3.6/dist-packages/IPython/core/interactiveshell.py:2718: DtypeWarning: Columns (11,14,19,22,25,70,73,86,87,89,90,94,97,100) have mixed types. Specify dtype option on import or set low_memory=False.\n",
            "  interactivity=interactivity, compiler=compiler, result=result)\n"
          ],
          "name": "stderr"
        }
      ]
    },
    {
      "cell_type": "code",
      "metadata": {
        "id": "FyJRwbAgeWa2",
        "colab_type": "code",
        "colab": {
          "base_uri": "https://localhost:8080/",
          "height": 269
        },
        "outputId": "240297fd-c6d2-40e5-d4dc-43a0479836d6"
      },
      "source": [
        "#df.head()\n",
        "dataframe_all.head()"
      ],
      "execution_count": 123,
      "outputs": [
        {
          "output_type": "execute_result",
          "data": {
            "text/html": [
              "<div>\n",
              "<style scoped>\n",
              "    .dataframe tbody tr th:only-of-type {\n",
              "        vertical-align: middle;\n",
              "    }\n",
              "\n",
              "    .dataframe tbody tr th {\n",
              "        vertical-align: top;\n",
              "    }\n",
              "\n",
              "    .dataframe thead th {\n",
              "        text-align: right;\n",
              "    }\n",
              "</style>\n",
              "<table border=\"1\" class=\"dataframe\">\n",
              "  <thead>\n",
              "    <tr style=\"text-align: right;\">\n",
              "      <th></th>\n",
              "      <th>Unnamed: 0</th>\n",
              "      <th>user_name</th>\n",
              "      <th>raw_timestamp_part_1</th>\n",
              "      <th>raw_timestamp_part_2</th>\n",
              "      <th>cvtd_timestamp</th>\n",
              "      <th>new_window</th>\n",
              "      <th>num_window</th>\n",
              "      <th>roll_belt</th>\n",
              "      <th>pitch_belt</th>\n",
              "      <th>yaw_belt</th>\n",
              "      <th>...</th>\n",
              "      <th>gyros_forearm_x</th>\n",
              "      <th>gyros_forearm_y</th>\n",
              "      <th>gyros_forearm_z</th>\n",
              "      <th>accel_forearm_x</th>\n",
              "      <th>accel_forearm_y</th>\n",
              "      <th>accel_forearm_z</th>\n",
              "      <th>magnet_forearm_x</th>\n",
              "      <th>magnet_forearm_y</th>\n",
              "      <th>magnet_forearm_z</th>\n",
              "      <th>classe</th>\n",
              "    </tr>\n",
              "  </thead>\n",
              "  <tbody>\n",
              "    <tr>\n",
              "      <th>0</th>\n",
              "      <td>1</td>\n",
              "      <td>carlitos</td>\n",
              "      <td>1323084231</td>\n",
              "      <td>788290</td>\n",
              "      <td>05/12/2011 11:23</td>\n",
              "      <td>no</td>\n",
              "      <td>11</td>\n",
              "      <td>1.41</td>\n",
              "      <td>8.07</td>\n",
              "      <td>-94.4</td>\n",
              "      <td>...</td>\n",
              "      <td>0.03</td>\n",
              "      <td>0.00</td>\n",
              "      <td>-0.02</td>\n",
              "      <td>192</td>\n",
              "      <td>203</td>\n",
              "      <td>-215</td>\n",
              "      <td>-17</td>\n",
              "      <td>654.0</td>\n",
              "      <td>476.0</td>\n",
              "      <td>A</td>\n",
              "    </tr>\n",
              "    <tr>\n",
              "      <th>1</th>\n",
              "      <td>2</td>\n",
              "      <td>carlitos</td>\n",
              "      <td>1323084231</td>\n",
              "      <td>808298</td>\n",
              "      <td>05/12/2011 11:23</td>\n",
              "      <td>no</td>\n",
              "      <td>11</td>\n",
              "      <td>1.41</td>\n",
              "      <td>8.07</td>\n",
              "      <td>-94.4</td>\n",
              "      <td>...</td>\n",
              "      <td>0.02</td>\n",
              "      <td>0.00</td>\n",
              "      <td>-0.02</td>\n",
              "      <td>192</td>\n",
              "      <td>203</td>\n",
              "      <td>-216</td>\n",
              "      <td>-18</td>\n",
              "      <td>661.0</td>\n",
              "      <td>473.0</td>\n",
              "      <td>A</td>\n",
              "    </tr>\n",
              "    <tr>\n",
              "      <th>2</th>\n",
              "      <td>3</td>\n",
              "      <td>carlitos</td>\n",
              "      <td>1323084231</td>\n",
              "      <td>820366</td>\n",
              "      <td>05/12/2011 11:23</td>\n",
              "      <td>no</td>\n",
              "      <td>11</td>\n",
              "      <td>1.42</td>\n",
              "      <td>8.07</td>\n",
              "      <td>-94.4</td>\n",
              "      <td>...</td>\n",
              "      <td>0.03</td>\n",
              "      <td>-0.02</td>\n",
              "      <td>0.00</td>\n",
              "      <td>196</td>\n",
              "      <td>204</td>\n",
              "      <td>-213</td>\n",
              "      <td>-18</td>\n",
              "      <td>658.0</td>\n",
              "      <td>469.0</td>\n",
              "      <td>A</td>\n",
              "    </tr>\n",
              "    <tr>\n",
              "      <th>3</th>\n",
              "      <td>4</td>\n",
              "      <td>carlitos</td>\n",
              "      <td>1323084232</td>\n",
              "      <td>120339</td>\n",
              "      <td>05/12/2011 11:23</td>\n",
              "      <td>no</td>\n",
              "      <td>12</td>\n",
              "      <td>1.48</td>\n",
              "      <td>8.05</td>\n",
              "      <td>-94.4</td>\n",
              "      <td>...</td>\n",
              "      <td>0.02</td>\n",
              "      <td>-0.02</td>\n",
              "      <td>0.00</td>\n",
              "      <td>189</td>\n",
              "      <td>206</td>\n",
              "      <td>-214</td>\n",
              "      <td>-16</td>\n",
              "      <td>658.0</td>\n",
              "      <td>469.0</td>\n",
              "      <td>A</td>\n",
              "    </tr>\n",
              "    <tr>\n",
              "      <th>4</th>\n",
              "      <td>5</td>\n",
              "      <td>carlitos</td>\n",
              "      <td>1323084232</td>\n",
              "      <td>196328</td>\n",
              "      <td>05/12/2011 11:23</td>\n",
              "      <td>no</td>\n",
              "      <td>12</td>\n",
              "      <td>1.48</td>\n",
              "      <td>8.07</td>\n",
              "      <td>-94.4</td>\n",
              "      <td>...</td>\n",
              "      <td>0.02</td>\n",
              "      <td>0.00</td>\n",
              "      <td>-0.02</td>\n",
              "      <td>189</td>\n",
              "      <td>206</td>\n",
              "      <td>-214</td>\n",
              "      <td>-17</td>\n",
              "      <td>655.0</td>\n",
              "      <td>473.0</td>\n",
              "      <td>A</td>\n",
              "    </tr>\n",
              "  </tbody>\n",
              "</table>\n",
              "<p>5 rows × 160 columns</p>\n",
              "</div>"
            ],
            "text/plain": [
              "   Unnamed: 0 user_name  raw_timestamp_part_1  raw_timestamp_part_2  \\\n",
              "0           1  carlitos            1323084231                788290   \n",
              "1           2  carlitos            1323084231                808298   \n",
              "2           3  carlitos            1323084231                820366   \n",
              "3           4  carlitos            1323084232                120339   \n",
              "4           5  carlitos            1323084232                196328   \n",
              "\n",
              "     cvtd_timestamp new_window  num_window  roll_belt  pitch_belt  yaw_belt  \\\n",
              "0  05/12/2011 11:23         no          11       1.41        8.07     -94.4   \n",
              "1  05/12/2011 11:23         no          11       1.41        8.07     -94.4   \n",
              "2  05/12/2011 11:23         no          11       1.42        8.07     -94.4   \n",
              "3  05/12/2011 11:23         no          12       1.48        8.05     -94.4   \n",
              "4  05/12/2011 11:23         no          12       1.48        8.07     -94.4   \n",
              "\n",
              "   ...  gyros_forearm_x gyros_forearm_y gyros_forearm_z accel_forearm_x  \\\n",
              "0  ...             0.03            0.00           -0.02             192   \n",
              "1  ...             0.02            0.00           -0.02             192   \n",
              "2  ...             0.03           -0.02            0.00             196   \n",
              "3  ...             0.02           -0.02            0.00             189   \n",
              "4  ...             0.02            0.00           -0.02             189   \n",
              "\n",
              "  accel_forearm_y accel_forearm_z magnet_forearm_x  magnet_forearm_y  \\\n",
              "0             203            -215              -17             654.0   \n",
              "1             203            -216              -18             661.0   \n",
              "2             204            -213              -18             658.0   \n",
              "3             206            -214              -16             658.0   \n",
              "4             206            -214              -17             655.0   \n",
              "\n",
              "   magnet_forearm_z classe  \n",
              "0             476.0      A  \n",
              "1             473.0      A  \n",
              "2             469.0      A  \n",
              "3             469.0      A  \n",
              "4             473.0      A  \n",
              "\n",
              "[5 rows x 160 columns]"
            ]
          },
          "metadata": {
            "tags": []
          },
          "execution_count": 123
        }
      ]
    },
    {
      "cell_type": "code",
      "metadata": {
        "id": "GPDFFhg0e9b2",
        "colab_type": "code",
        "colab": {}
      },
      "source": [
        "num_rows = dataframe_all.shape[0]"
      ],
      "execution_count": 0,
      "outputs": []
    },
    {
      "cell_type": "code",
      "metadata": {
        "id": "GKZoJL40e9eg",
        "colab_type": "code",
        "colab": {
          "base_uri": "https://localhost:8080/",
          "height": 35
        },
        "outputId": "1b79ca23-7236-4737-e5d0-eac8885e5f97"
      },
      "source": [
        "num_rows"
      ],
      "execution_count": 125,
      "outputs": [
        {
          "output_type": "execute_result",
          "data": {
            "text/plain": [
              "19622"
            ]
          },
          "metadata": {
            "tags": []
          },
          "execution_count": 125
        }
      ]
    },
    {
      "cell_type": "code",
      "metadata": {
        "id": "JZdOR8QEkbVf",
        "colab_type": "code",
        "colab": {}
      },
      "source": [
        "#DATA CLEANING."
      ],
      "execution_count": 0,
      "outputs": []
    },
    {
      "cell_type": "code",
      "metadata": {
        "id": "-Gwy40xeVmjm",
        "colab_type": "code",
        "colab": {}
      },
      "source": [
        "#Count the number of missing elements in each row!\n",
        "\n",
        "count_null = dataframe_all.isnull().sum() # counting the number of missing columns and returning the sum of the values."
      ],
      "execution_count": 0,
      "outputs": []
    },
    {
      "cell_type": "code",
      "metadata": {
        "id": "nvlpV0tid78X",
        "colab_type": "code",
        "colab": {}
      },
      "source": [
        "counter_without_null = count_null[count_null == 0] # these are columns which does not have null values."
      ],
      "execution_count": 0,
      "outputs": []
    },
    {
      "cell_type": "code",
      "metadata": {
        "id": "P48bwSGcgCdj",
        "colab_type": "code",
        "colab": {}
      },
      "source": [
        "dataframe_all = dataframe_all[counter_without_null.keys()]"
      ],
      "execution_count": 0,
      "outputs": []
    },
    {
      "cell_type": "code",
      "metadata": {
        "id": "PtIPP5-IikKd",
        "colab_type": "code",
        "colab": {
          "base_uri": "https://localhost:8080/",
          "height": 158
        },
        "outputId": "9784393e-aca4-4505-a543-5aca18711c32"
      },
      "source": [
        "#Removing First seven Columns\n",
        "\n",
        "dataframe_all = dataframe_all.ix[:,7:]"
      ],
      "execution_count": 130,
      "outputs": [
        {
          "output_type": "stream",
          "text": [
            "/usr/local/lib/python3.6/dist-packages/ipykernel_launcher.py:2: DeprecationWarning: \n",
            ".ix is deprecated. Please use\n",
            ".loc for label based indexing or\n",
            ".iloc for positional indexing\n",
            "\n",
            "See the documentation here:\n",
            "http://pandas.pydata.org/pandas-docs/stable/indexing.html#ix-indexer-is-deprecated\n",
            "  \n"
          ],
          "name": "stderr"
        }
      ]
    },
    {
      "cell_type": "code",
      "metadata": {
        "id": "Lc9kFADkjs8_",
        "colab_type": "code",
        "colab": {}
      },
      "source": [
        "#Priting list of columns\n",
        "\n",
        "all_columns=dataframe_all.columns"
      ],
      "execution_count": 0,
      "outputs": []
    },
    {
      "cell_type": "code",
      "metadata": {
        "id": "TI00zp7kkG7t",
        "colab_type": "code",
        "colab": {}
      },
      "source": [
        "##DATA CLEANING IS DONE!!!!"
      ],
      "execution_count": 0,
      "outputs": []
    },
    {
      "cell_type": "code",
      "metadata": {
        "id": "4iNTeJylkQ2t",
        "colab_type": "code",
        "colab": {}
      },
      "source": [
        "## NOW GEETING FEATURES FROM DATA TO START PLOTTING."
      ],
      "execution_count": 0,
      "outputs": []
    },
    {
      "cell_type": "code",
      "metadata": {
        "id": "z5HueBAIkYrW",
        "colab_type": "code",
        "colab": {
          "base_uri": "https://localhost:8080/",
          "height": 158
        },
        "outputId": "6a5401a3-6073-4096-d65c-ede8d8f1410d"
      },
      "source": [
        "x = dataframe_all.ix[:,:-1].values"
      ],
      "execution_count": 73,
      "outputs": [
        {
          "output_type": "stream",
          "text": [
            "/usr/local/lib/python3.6/dist-packages/ipykernel_launcher.py:1: DeprecationWarning: \n",
            ".ix is deprecated. Please use\n",
            ".loc for label based indexing or\n",
            ".iloc for positional indexing\n",
            "\n",
            "See the documentation here:\n",
            "http://pandas.pydata.org/pandas-docs/stable/indexing.html#ix-indexer-is-deprecated\n",
            "  \"\"\"Entry point for launching an IPython kernel.\n"
          ],
          "name": "stderr"
        }
      ]
    },
    {
      "cell_type": "code",
      "metadata": {
        "id": "a60J-Otxk7vM",
        "colab_type": "code",
        "colab": {}
      },
      "source": [
        "standard_scaler = StandardScaler()\n",
        "x_std = standard_scaler.fit_transform(x)"
      ],
      "execution_count": 0,
      "outputs": []
    },
    {
      "cell_type": "code",
      "metadata": {
        "id": "iNhP0ohcmJQ-",
        "colab_type": "code",
        "colab": {
          "base_uri": "https://localhost:8080/",
          "height": 158
        },
        "outputId": "8d32b32b-99d2-42d6-de58-4ac55760a17e"
      },
      "source": [
        "## GET CLASS LABEL AND THEN ENCODE IT TO A NUMBER!\n",
        "\n",
        "y = dataframe_all.ix[:,-1].values\n",
        "\n",
        "class_label = np.unique(y) # this gives all the unique label used in that column\n",
        "\n",
        "label_encoder = LabelEncoder()\n",
        "\n",
        "y = label_encoder.fit_transform(y)\n"
      ],
      "execution_count": 83,
      "outputs": [
        {
          "output_type": "stream",
          "text": [
            "/usr/local/lib/python3.6/dist-packages/ipykernel_launcher.py:2: DeprecationWarning: \n",
            ".ix is deprecated. Please use\n",
            ".loc for label based indexing or\n",
            ".iloc for positional indexing\n",
            "\n",
            "See the documentation here:\n",
            "http://pandas.pydata.org/pandas-docs/stable/indexing.html#ix-indexer-is-deprecated\n",
            "  \n"
          ],
          "name": "stderr"
        }
      ]
    },
    {
      "cell_type": "code",
      "metadata": {
        "id": "9g1PIN46mlqG",
        "colab_type": "code",
        "colab": {
          "base_uri": "https://localhost:8080/",
          "height": 35
        },
        "outputId": "c903d7df-ed30-45c0-85fd-8245e2e03791"
      },
      "source": [
        "class_label"
      ],
      "execution_count": 84,
      "outputs": [
        {
          "output_type": "execute_result",
          "data": {
            "text/plain": [
              "array(['A', 'B', 'C', 'D', 'E'], dtype=object)"
            ]
          },
          "metadata": {
            "tags": []
          },
          "execution_count": 84
        }
      ]
    },
    {
      "cell_type": "code",
      "metadata": {
        "id": "2tKeNJtlnM-z",
        "colab_type": "code",
        "colab": {}
      },
      "source": [
        "#Splitting the data into Training and Test\n",
        "\n",
        "test_percentage = 0.1\n",
        "\n",
        "x_train, x_test, y_train, y_test = train_test_split(x_std, y, test_size = test_percentage, random_state = 0) # Need to understand this line.\n",
        "\n"
      ],
      "execution_count": 0,
      "outputs": []
    },
    {
      "cell_type": "code",
      "metadata": {
        "id": "tLpP7IoRrIDe",
        "colab_type": "code",
        "colab": {}
      },
      "source": [
        "##T-SNE Visualization."
      ],
      "execution_count": 0,
      "outputs": []
    },
    {
      "cell_type": "code",
      "metadata": {
        "id": "j-2Bg7mPt6bM",
        "colab_type": "code",
        "colab": {}
      },
      "source": [
        "from sklearn.manifold import TSNE"
      ],
      "execution_count": 0,
      "outputs": []
    },
    {
      "cell_type": "code",
      "metadata": {
        "id": "3WQryw-zucgJ",
        "colab_type": "code",
        "colab": {}
      },
      "source": [
        "tsne = TSNE()"
      ],
      "execution_count": 0,
      "outputs": []
    },
    {
      "cell_type": "code",
      "metadata": {
        "id": "ROrUe6PTt-rL",
        "colab_type": "code",
        "colab": {}
      },
      "source": [
        "tsne1 = TSNE(n_components = 2, random_state =0)"
      ],
      "execution_count": 0,
      "outputs": []
    },
    {
      "cell_type": "code",
      "metadata": {
        "id": "jGWmluihuKp0",
        "colab_type": "code",
        "colab": {}
      },
      "source": [
        "x_test_2d = tsne1.fit_transform(x_test)"
      ],
      "execution_count": 0,
      "outputs": []
    },
    {
      "cell_type": "code",
      "metadata": {
        "id": "Lx3u96Y_uU_y",
        "colab_type": "code",
        "colab": {}
      },
      "source": [
        "##SCTTER PLOTTING THE SAMPLE POINTS"
      ],
      "execution_count": 0,
      "outputs": []
    },
    {
      "cell_type": "code",
      "metadata": {
        "id": "nvG3Bdihu-CM",
        "colab_type": "code",
        "colab": {
          "base_uri": "https://localhost:8080/",
          "height": 295
        },
        "outputId": "798c927b-a602-484a-cd9b-5c53ebc8df8a"
      },
      "source": [
        "markers=('s', 'd', 'o', '^', 'v')\n",
        "color_map = {0:'red', 1:'blue', 2:'lightgreen', 3:'purple', 4:'cyan'}\n",
        "mlt.figure()\n",
        "for idx, cl in enumerate(np.unique(y_test)):\n",
        "    mlt.scatter(x=x_test_2d[y_test==cl,0], y=x_test_2d[y_test==cl,1], c=color_map[idx], marker=markers[idx], label=cl)\n",
        "mlt.xlabel('X in t-SNE')\n",
        "mlt.ylabel('Y in t-SNE')\n",
        "mlt.legend(loc='upper left')\n",
        "mlt.title('t-SNE visualization of test data')\n",
        "mlt.show()"
      ],
      "execution_count": 118,
      "outputs": [
        {
          "output_type": "display_data",
          "data": {
            "image/png": "[encoded data removed]",
            "text/plain": [
              "<Figure size 432x288 with 1 Axes>"
            ]
          },
          "metadata": {
            "tags": []
          }
        }
      ]
    },
    {
      "cell_type": "code",
      "metadata": {
        "id": "zjfAErMkvc37",
        "colab_type": "code",
        "colab": {}
      },
      "source": [
        ""
      ],
      "execution_count": 0,
      "outputs": []
    }
  ]
}